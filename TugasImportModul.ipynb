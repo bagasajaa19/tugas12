{
 "cells": [
  {
   "cell_type": "code",
   "execution_count": 3,
   "id": "f49ad6e9-cfad-40d5-9d44-e7375b2b84df",
   "metadata": {},
   "outputs": [
    {
     "name": "stdout",
     "output_type": "stream",
     "text": [
      "\n",
      "    1. Aritmatika\n",
      "    2. Konversi\n",
      "    3. Ubah Bilangan\n",
      "    4. Keluar\n",
      "    \n"
     ]
    },
    {
     "name": "stdin",
     "output_type": "stream",
     "text": [
      "PILIH MENU: (1-4):  1\n"
     ]
    },
    {
     "name": "stdout",
     "output_type": "stream",
     "text": [
      "\n",
      "    1. Pertambahan\n",
      "    2. Perpangkatan\n",
      "    3. Perkalian\n",
      "    \n"
     ]
    },
    {
     "name": "stdin",
     "output_type": "stream",
     "text": [
      "Pilih Fitur (1-3):  1\n",
      "Isikan angka 1:  12\n",
      "Isikan angka 2:  23\n"
     ]
    },
    {
     "name": "stdout",
     "output_type": "stream",
     "text": [
      "Hasil Pengurangan 12 ditambah 23 : 35\n",
      "\n",
      "    1. Aritmatika\n",
      "    2. Konversi\n",
      "    3. Ubah Bilangan\n",
      "    4. Keluar\n",
      "    \n"
     ]
    },
    {
     "name": "stdin",
     "output_type": "stream",
     "text": [
      "PILIH MENU: (1-4):  2\n"
     ]
    },
    {
     "name": "stdout",
     "output_type": "stream",
     "text": [
      "\n",
      "    1. CM TO M\n",
      "    2. M TO CM\n",
      "    \n"
     ]
    },
    {
     "name": "stdin",
     "output_type": "stream",
     "text": [
      "Pilih Fitur (1-2):  2\n",
      "Isikan panjang (Meter):  23\n"
     ]
    },
    {
     "name": "stdout",
     "output_type": "stream",
     "text": [
      "Panjang dalam Centimeter : 2300\n",
      "\n",
      "    1. Aritmatika\n",
      "    2. Konversi\n",
      "    3. Ubah Bilangan\n",
      "    4. Keluar\n",
      "    \n"
     ]
    },
    {
     "name": "stdin",
     "output_type": "stream",
     "text": [
      "PILIH MENU: (1-4):  3\n"
     ]
    },
    {
     "name": "stdout",
     "output_type": "stream",
     "text": [
      "\n",
      "    1. Desimal To Biner\n",
      "    2. Desimal To Octal\n",
      "    3. Desimal To Hexadesimal\n",
      "    \n"
     ]
    },
    {
     "name": "stdin",
     "output_type": "stream",
     "text": [
      "Pilih Fitur (1-3):  3\n",
      "Isikan bilangan desimal:  43\n"
     ]
    },
    {
     "name": "stdout",
     "output_type": "stream",
     "text": [
      "Bilangan Hexadesimal: 0x2b\n",
      "\n",
      "    1. Aritmatika\n",
      "    2. Konversi\n",
      "    3. Ubah Bilangan\n",
      "    4. Keluar\n",
      "    \n"
     ]
    },
    {
     "name": "stdin",
     "output_type": "stream",
     "text": [
      "PILIH MENU: (1-4):  4\n"
     ]
    },
    {
     "name": "stdout",
     "output_type": "stream",
     "text": [
      "Terima Kasih telah menggunakan Program ini.\n"
     ]
    }
   ],
   "source": [
    "\n",
    "import aritmatika\n",
    "import konversi\n",
    "import ubahBilangan\n",
    "\n",
    "def menuUtama():\n",
    "    print(\"\"\"\n",
    "    1. Aritmatika\n",
    "    2. Konversi\n",
    "    3. Ubah Bilangan\n",
    "    4. Keluar\n",
    "    \"\"\")\n",
    "\n",
    "def menuAritmatika():\n",
    "    print(\"\"\"\n",
    "    1. Pertambahan\n",
    "    2. Perpangkatan\n",
    "    3. Perkalian\n",
    "    \"\"\")\n",
    "\n",
    "def menuKonversi():\n",
    "    print(\"\"\"\n",
    "    1. CM TO M\n",
    "    2. M TO CM\n",
    "    \"\"\")\n",
    "\n",
    "def menuUbahBilangan():\n",
    "    print(\"\"\"\n",
    "    1. Desimal To Biner\n",
    "    2. Desimal To Octal\n",
    "    3. Desimal To Hexadesimal\n",
    "    \"\"\")\n",
    "\n",
    "while True:\n",
    "    menuUtama()\n",
    "    pilihMenu = int(input(\"PILIH MENU: (1-4): \"))\n",
    "    if pilihMenu == 1:\n",
    "        menuAritmatika()\n",
    "        pilihFitur = int(input(\"Pilih Fitur (1-3): \"))\n",
    "        if pilihFitur == 1:\n",
    "            a = int(input(\"Isikan angka 1: \"))\n",
    "            b = int(input(\"Isikan angka 2: \"))\n",
    "            hasil = aritmatika.pertambahan(a, b)\n",
    "            print(f\"Hasil Pengurangan {a} ditambah {b} : {hasil}\")\n",
    "        elif pilihFitur == 2:\n",
    "            a = int(input(\"Isikan angka 1: \"))\n",
    "            b = int(input(\"Isikan angka 2: \"))\n",
    "            hasil = aritmatika.perpangkatan(a, b)\n",
    "            print(f\"Hasil Perpangkatan {a} pangkat {b} : {hasil}\")\n",
    "        elif pilihFitur == 3:\n",
    "            a = int(input(\"Isikan angka 1: \"))\n",
    "            b = int(input(\"Isikan angka 2: \"))\n",
    "            hasil = aritmatika.perkalian(a, b)\n",
    "            print(f\"Hasil Pembagian {a} kali {b} : {hasil}\")\n",
    "        else:\n",
    "            print(\"PILIH FITUR 1 SAMPAI 4 SAJA!!\")\n",
    "            break\n",
    "    elif pilihMenu == 2:\n",
    "        menuKonversi()\n",
    "        pilihFitur = int(input(\"Pilih Fitur (1-2): \"))\n",
    "        if pilihFitur == 1:\n",
    "            pjgCM = int(input(\"Isikan panjang (CM): \"))\n",
    "            pjgMt = konversi.cmToMeter(pjgCM)\n",
    "            print(f\"Panjang dalam meter: {pjgMt}\")\n",
    "        elif pilihFitur == 2:\n",
    "            pjgMt = int(input(\"Isikan panjang (Meter): \"))\n",
    "            pjgCM = konversi.meterToCm(pjgMt)\n",
    "            print(f\"Panjang dalam Centimeter : {pjgCM}\")\n",
    "        else:\n",
    "            print(\"PILIH FITUR 1 SAMPAI 2 SAJA!!\")\n",
    "            break\n",
    "    elif pilihMenu == 3:\n",
    "        menuUbahBilangan()\n",
    "        pilihFitur = int(input(\"Pilih Fitur (1-3): \"))\n",
    "        if pilihFitur == 1:\n",
    "            des = int(input(\"Isikan bilangan desimal: \"))\n",
    "            ner = ubahBilangan.desimalToBiner(des)\n",
    "            print(f\"Bilangan Biner: {ner}\")\n",
    "        elif pilihFitur == 2:\n",
    "            des = int(input(\"Isikan bilangan desimal: \"))\n",
    "            tal = ubahBilangan.desimalToOctal(des)\n",
    "            print(f\"Bilangan Octal: {tal}\")\n",
    "        elif pilihFitur == 3:\n",
    "            des = int(input(\"Isikan bilangan desimal: \"))\n",
    "            hexa = ubahBilangan.desimalToHexadesimal(des)\n",
    "            print(f\"Bilangan Hexadesimal: {hexa}\")\n",
    "        else:\n",
    "            print(\"PILIH FITUR 1 SAMPAI 3 SAJA\")\n",
    "            break\n",
    "    elif pilihMenu == 4:\n",
    "        print(\"Terima Kasih telah menggunakan Program ini.\")\n",
    "        break\n",
    "    else:\n",
    "        print(\"PILIHAN MENU HANYA 1 SAMPAI 4 SAJA\")\n",
    "        break"
   ]
  }
 ],
 "metadata": {
  "kernelspec": {
   "display_name": "Python [conda env:base] *",
   "language": "python",
   "name": "conda-base-py"
  },
  "language_info": {
   "codemirror_mode": {
    "name": "ipython",
    "version": 3
   },
   "file_extension": ".py",
   "mimetype": "text/x-python",
   "name": "python",
   "nbconvert_exporter": "python",
   "pygments_lexer": "ipython3",
   "version": "3.12.7"
  }
 },
 "nbformat": 4,
 "nbformat_minor": 5
}
